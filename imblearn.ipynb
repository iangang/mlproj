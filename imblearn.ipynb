{
 "cells": [
  {
   "cell_type": "markdown",
   "metadata": {},
   "source": [
    "\n",
    "#### 环境配置:\n",
    "\n",
    "* 依赖包\n",
    "    - numpy\n",
    "    - scipy\n",
    "    - scikit-learn\n",
    "    - keras\n",
    "    - tensorflow\n",
    "\n",
    "* 安装包\n",
    "\n",
    "```shell\n",
    "pip install -U imblanced-learn\n",
    "# or \n",
    "conda install -c conda-forge imbalanced-learn\n",
    "# or \n",
    "git clone https://github.com/scikit-learn-contrib/imbalanced-learn.git\n",
    "cd imbalanced-learn\n",
    "pip install .\n",
    "```\n",
    "\n",
    "\n"
   ]
  },
  {
   "cell_type": "markdown",
   "metadata": {},
   "source": [
    "# 1.过采样"
   ]
  },
  {
   "cell_type": "markdown",
   "metadata": {},
   "source": [
    "## 1.1 Naive random over-sampling with replacement"
   ]
  },
  {
   "cell_type": "code",
   "execution_count": 15,
   "metadata": {},
   "outputs": [
    {
     "name": "stdout",
     "output_type": "stream",
     "text": [
      "(5000, 2) (5000,)\n",
      "[(0, 64), (1, 262), (2, 4674)]\n"
     ]
    }
   ],
   "source": [
    "import numpy as np\n",
    "import pandas as pd\n",
    "from sklearn.datasets import make_classification\n",
    "from imblearn.over_sampling import RandomOverSampler\n",
    "from collections import Counter\n",
    "\n",
    "# origin data\n",
    "X, y = make_classification(n_samples = 5000,\n",
    "                           n_features = 2,\n",
    "                           n_informative = 2,\n",
    "                           n_redundant = 0,\n",
    "                           n_repeated = 0,\n",
    "                           n_classes = 3,\n",
    "                           n_clusters_per_class = 1,\n",
    "                           weights = [0.01, 0.05, 0.94],\n",
    "                           class_sep = 0.8,\n",
    "                           random_state = 0)\n",
    "print(X.shape, y.shape)\n",
    "print(sorted(Counter(y).items()))"
   ]
  },
  {
   "cell_type": "code",
   "execution_count": 16,
   "metadata": {},
   "outputs": [
    {
     "name": "stdout",
     "output_type": "stream",
     "text": [
      "(14022, 2) (14022,)\n",
      "[(0, 4674), (1, 4674), (2, 4674)]\n"
     ]
    }
   ],
   "source": [
    "# resampled data\n",
    "ros = RandomOverSampler(random_state = 0)\n",
    "X_resampled, y_resampled = ros.fit_resample(X, y)\n",
    "print(X_resampled.shape, y_resampled.shape)\n",
    "print(sorted(Counter(y_resampled).items()))"
   ]
  },
  {
   "cell_type": "markdown",
   "metadata": {},
   "source": [
    "### 异构数据过采样"
   ]
  },
  {
   "cell_type": "code",
   "execution_count": 3,
   "metadata": {},
   "outputs": [
    {
     "name": "stdout",
     "output_type": "stream",
     "text": [
      "[['xxx' 1 1.0]\n",
      " ['yyy' 2 2.0]\n",
      " ['zzz' 3 3.0]]\n",
      "[0 0 1]\n",
      "==================================================\n",
      "[['xxx' 1 1.0]\n",
      " ['yyy' 2 2.0]\n",
      " ['zzz' 3 3.0]\n",
      " ['zzz' 3 3.0]]\n",
      "[0 0 1 1]\n"
     ]
    }
   ],
   "source": [
    "# origin data\n",
    "X_hetero = np.array([\n",
    "    ['xxx', 1, 1.0],\n",
    "    ['yyy', 2, 2.0],\n",
    "    ['zzz', 3, 3.0]\n",
    "], dtype = np.object)\n",
    "y_hetero = np.array([0, 0, 1])\n",
    "print(X_hetero)\n",
    "print(y_hetero)\n",
    "\n",
    "# resample data\n",
    "X_resampled, y_resampled = ros.fit_resample(X_hetero, y_hetero)\n",
    "print('=' * 50)\n",
    "print(X_resampled)\n",
    "print(y_resampled)"
   ]
  },
  {
   "cell_type": "markdown",
   "metadata": {},
   "source": [
    "## 1.2 SMOTE and ADASYN\n",
    "\n",
    "* SMOTE(Synthetic Minority Oversampling Technique)\n",
    "* Adaptive Synthetic(ADASYN)"
   ]
  },
  {
   "cell_type": "code",
   "execution_count": 43,
   "metadata": {},
   "outputs": [
    {
     "name": "stdout",
     "output_type": "stream",
     "text": [
      "(5000, 2) (5000,)\n",
      "[(0, 64), (1, 262), (2, 4674)]\n"
     ]
    }
   ],
   "source": [
    "import numpy as np\n",
    "import pandas as pd\n",
    "from sklearn.datasets import make_classification\n",
    "from collections import Counter\n",
    "\n",
    "# origin data\n",
    "X, y = make_classification(n_samples = 5000,\n",
    "                           n_features = 2,\n",
    "                           n_informative = 2,\n",
    "                           n_redundant = 0,\n",
    "                           n_repeated = 0,\n",
    "                           n_classes = 3,\n",
    "                           n_clusters_per_class = 1,\n",
    "                           weights = [0.01, 0.05, 0.94],\n",
    "                           class_sep = 0.8,\n",
    "                           random_state = 0)\n",
    "print(X.shape, y.shape)\n",
    "print(sorted(Counter(y).items()))"
   ]
  },
  {
   "cell_type": "markdown",
   "metadata": {},
   "source": [
    "### 1.2.1 SMOTE"
   ]
  },
  {
   "cell_type": "markdown",
   "metadata": {},
   "source": [
    "#### 1.2.1.1 SMOTE"
   ]
  },
  {
   "cell_type": "code",
   "execution_count": 44,
   "metadata": {},
   "outputs": [
    {
     "name": "stdout",
     "output_type": "stream",
     "text": [
      "(14022, 2) (14022,)\n",
      "[(0, 4674), (1, 4674), (2, 4674)]\n"
     ]
    }
   ],
   "source": [
    "# smote resampled data\n",
    "from imblearn.over_sampling import SMOTE, ADASYN\n",
    "\n",
    "smote = SMOTE()\n",
    "X_resampled, y_resampled = smote.fit_resample(X, y)\n",
    "print(X_resampled.shape, y_resampled.shape)\n",
    "print(sorted(Counter(y_resampled).items()))"
   ]
  },
  {
   "cell_type": "markdown",
   "metadata": {},
   "source": [
    "#### 1.2.1.2 BorderlineSMOTE"
   ]
  },
  {
   "cell_type": "code",
   "execution_count": 42,
   "metadata": {},
   "outputs": [
    {
     "name": "stdout",
     "output_type": "stream",
     "text": [
      "[(0, 4674), (1, 4674), (2, 4674)]\n"
     ]
    }
   ],
   "source": [
    "from imblearn.over_sampling import BorderlineSMOTE\n",
    "\n",
    "X_resampled, y_resampled = BorderlineSMOTE().fit_resample(X, y)\n",
    "print(sorted(Counter(y_resampled).items()))"
   ]
  },
  {
   "cell_type": "markdown",
   "metadata": {},
   "source": [
    "#### 1.2.1.3 SMOTENC"
   ]
  },
  {
   "cell_type": "code",
   "execution_count": 29,
   "metadata": {},
   "outputs": [
    {
     "name": "stdout",
     "output_type": "stream",
     "text": [
      "[['C' -0.14021849735700803 2]\n",
      " ['A' -0.033193400066544886 2]\n",
      " ['C' -0.7490765234433554 1]\n",
      " ['C' -0.7783820070908942 2]\n",
      " ['A' 0.948842857719016 2]\n",
      " ['A' 1.580850586039026 0]\n",
      " ['C' -0.3681709413435413 2]\n",
      " ['B' 0.375564633840694 2]\n",
      " ['C' -1.1931582294890923 1]\n",
      " ['C' -0.4090519017239313 1]\n",
      " ['C' -0.44674147097314604 0]\n",
      " ['C' 1.5242416328552062 2]\n",
      " ['A' 0.3229997972782976 2]\n",
      " ['C' -1.3934169408727037 2]\n",
      " ['B' -2.1783342468237086 0]\n",
      " ['A' -1.043896408234835 0]\n",
      " ['B' 0.17269370652551178 1]\n",
      " ['B' 0.32419876755273175 0]\n",
      " ['B' 0.7458595418254313 2]\n",
      " ['B' -1.8365832393175525 2]\n",
      " ['A' 0.5644642385551357 0]\n",
      " ['A' 0.025500668081348373 2]\n",
      " ['B' 0.4731932494600233 2]\n",
      " ['B' 0.6591905984289843 0]\n",
      " ['A' 2.3407463341030463 0]\n",
      " ['A' 1.070985187017369 2]\n",
      " ['A' 0.09641647903025843 2]\n",
      " ['C' 0.41910210559764305 2]\n",
      " ['C' -0.9530277892165022 1]\n",
      " ['C' -1.0478706025818139 1]\n",
      " ['B' -1.875676772206517 1]\n",
      " ['C' -1.3667821388862977 0]\n",
      " ['B' 0.6363051083451703 1]\n",
      " ['B' -0.9067206685799298 0]\n",
      " ['C' 0.4760425874269718 0]\n",
      " ['B' 1.303661268398584 1]\n",
      " ['C' 0.2115870123260165 1]\n",
      " ['C' 0.5970446461790757 1]\n",
      " ['A' -0.8963351831293019 2]\n",
      " ['C' -0.11198782050694159 1]\n",
      " ['A' 1.4689412854323924 2]\n",
      " ['C' -1.1238983345400366 0]\n",
      " ['C' 0.9500053955071801 2]\n",
      " ['A' 1.7265164685753638 1]\n",
      " ['A' 0.4578850770000152 0]\n",
      " ['C' -1.6842873783658814 0]\n",
      " ['B' 0.32684522397001387 0]\n",
      " ['A' -0.0811189541586873 2]\n",
      " ['B' 0.46779475326315173 1]\n",
      " ['B' 0.7361223506692577 0]] [0 0 0 0 0 0 0 0 0 0 0 0 0 0 0 0 0 0 0 0 1 1 1 1 1 1 1 1 1 1 1 1 1 1 1 1 1\n",
      " 1 1 1 1 1 1 1 1 1 1 1 1 1]\n",
      "[['C' -0.14021849735700803 2]\n",
      " ['A' -0.033193400066544886 2]\n",
      " ['C' -0.7490765234433554 1]\n",
      " ['C' -0.7783820070908942 2]\n",
      " ['A' 0.948842857719016 2]\n",
      " ['A' 1.580850586039026 0]\n",
      " ['C' -0.3681709413435413 2]\n",
      " ['B' 0.375564633840694 2]\n",
      " ['C' -1.1931582294890923 1]\n",
      " ['C' -0.4090519017239313 1]\n",
      " ['C' -0.44674147097314604 0]\n",
      " ['C' 1.5242416328552062 2]\n",
      " ['A' 0.3229997972782976 2]\n",
      " ['C' -1.3934169408727037 2]\n",
      " ['B' -2.1783342468237086 0]\n",
      " ['A' -1.043896408234835 0]\n",
      " ['B' 0.17269370652551178 1]\n",
      " ['B' 0.32419876755273175 0]\n",
      " ['B' 0.7458595418254313 2]\n",
      " ['B' -1.8365832393175525 2]\n",
      " ['A' 0.5644642385551357 0]\n",
      " ['A' 0.025500668081348373 2]\n",
      " ['B' 0.4731932494600233 2]\n",
      " ['B' 0.6591905984289843 0]\n",
      " ['A' 2.3407463341030463 0]\n",
      " ['A' 1.070985187017369 2]\n",
      " ['A' 0.09641647903025843 2]\n",
      " ['C' 0.41910210559764305 2]\n",
      " ['C' -0.9530277892165022 1]\n",
      " ['C' -1.0478706025818139 1]\n",
      " ['B' -1.875676772206517 1]\n",
      " ['C' -1.3667821388862977 0]\n",
      " ['B' 0.6363051083451703 1]\n",
      " ['B' -0.9067206685799298 0]\n",
      " ['C' 0.4760425874269718 0]\n",
      " ['B' 1.303661268398584 1]\n",
      " ['C' 0.2115870123260165 1]\n",
      " ['C' 0.5970446461790757 1]\n",
      " ['A' -0.8963351831293019 2]\n",
      " ['C' -0.11198782050694159 1]\n",
      " ['A' 1.4689412854323924 2]\n",
      " ['C' -1.1238983345400366 0]\n",
      " ['C' 0.9500053955071801 2]\n",
      " ['A' 1.7265164685753638 1]\n",
      " ['A' 0.4578850770000152 0]\n",
      " ['C' -1.6842873783658814 0]\n",
      " ['B' 0.32684522397001387 0]\n",
      " ['A' -0.0811189541586873 2]\n",
      " ['B' 0.46779475326315173 1]\n",
      " ['B' 0.7361223506692577 0]\n",
      " ['C' -1.0600505672469849 1]\n",
      " ['C' -0.36965644259183145 1]\n",
      " ['A' 0.1453826708354494 2]\n",
      " ['C' -1.7442827953859052 2]\n",
      " ['C' -1.6278053447258838 2]\n",
      " ['A' 0.5246469549655818 2]\n",
      " ['B' -0.3657680728116921 2]\n",
      " ['A' 0.9344237230779993 2]\n",
      " ['B' 0.3710891618824609 2]\n",
      " ['B' 0.3327240726719727 2]] [0 0 0 0 0 0 0 0 0 0 0 0 0 0 0 0 0 0 0 0 1 1 1 1 1 1 1 1 1 1 1 1 1 1 1 1 1\n",
      " 1 1 1 1 1 1 1 1 1 1 1 1 1 0 0 0 0 0 0 0 0 0 0]\n",
      "[(0, 30), (1, 30)]\n"
     ]
    }
   ],
   "source": [
    "from imblearn.over_sampling import SMOTENC\n",
    "\n",
    "rng = np.random.RandomState(42)\n",
    "n_samples = 50\n",
    "X = np.empty((n_samples, 3), dtype = object)\n",
    "X[:, 0] = rng.choice(['A', 'B', 'C'], size = n_samples).astype(object)\n",
    "X[:, 1] = rng.randn(n_samples)\n",
    "X[:, 2] = rng.randint(3, size = n_samples)\n",
    "y = np.array([0] * 20 + [1] * 30)\n",
    "print(X, y)\n",
    "\n",
    "smote_nc = SMOTENC(categorical_features = [0, 2], random_state = 0)\n",
    "X_resampled, y_resampled = smote_nc.fit_resample(X, y)\n",
    "print(X_resampled, y_resampled)\n",
    "print(sorted(Counter(y_resampled).items()))"
   ]
  },
  {
   "cell_type": "markdown",
   "metadata": {},
   "source": [
    "#### 1.2.1.4 KMeansSMOTE"
   ]
  },
  {
   "cell_type": "code",
   "execution_count": 30,
   "metadata": {},
   "outputs": [],
   "source": [
    "from imblearn.over_sampling import KMeansSMOTE"
   ]
  },
  {
   "cell_type": "markdown",
   "metadata": {},
   "source": [
    "### 1.2.2 ADASYN"
   ]
  },
  {
   "cell_type": "code",
   "execution_count": 45,
   "metadata": {},
   "outputs": [
    {
     "name": "stdout",
     "output_type": "stream",
     "text": [
      "(14009, 2) (14009,)\n",
      "[(0, 4673), (1, 4662), (2, 4674)]\n"
     ]
    }
   ],
   "source": [
    "# ANASYN resampled data\n",
    "from imblearn.over_sampling import SMOTE, ADASYN\n",
    "\n",
    "adasyn = ADASYN()\n",
    "X_resampled, y_resampled = adasyn.fit_resample(X, y)\n",
    "print(X_resampled.shape, y_resampled.shape)\n",
    "print(sorted(Counter(y_resampled).items()))"
   ]
  },
  {
   "cell_type": "markdown",
   "metadata": {},
   "source": [
    "# 2. Under-Sampling(欠采样)"
   ]
  },
  {
   "cell_type": "code",
   "execution_count": 46,
   "metadata": {},
   "outputs": [
    {
     "name": "stdout",
     "output_type": "stream",
     "text": [
      "[(0, 64), (1, 262), (2, 4674)]\n"
     ]
    }
   ],
   "source": [
    "import numpy as np\n",
    "import pandas as pd\n",
    "from collections import Counter\n",
    "from sklearn.datasets import make_classification\n",
    "\n",
    "X, y = make_classification(n_samples = 5000, \n",
    "                           n_features = 2, \n",
    "                           n_informative = 2,\n",
    "                           n_redundant = 0, \n",
    "                           n_repeated = 0,\n",
    "                           n_classes = 3,\n",
    "                           n_clusters_per_class = 1,\n",
    "                           weights = [0.01, 0.05, 0.94],\n",
    "                           class_sep = 0.8, \n",
    "                           random_state = 0)\n",
    "print(sorted(Counter(y).items()))"
   ]
  },
  {
   "cell_type": "markdown",
   "metadata": {},
   "source": [
    "### 2.1 Prototype generation"
   ]
  },
  {
   "cell_type": "code",
   "execution_count": 40,
   "metadata": {},
   "outputs": [
    {
     "name": "stdout",
     "output_type": "stream",
     "text": [
      "[(0, 64), (1, 64), (2, 64)]\n"
     ]
    }
   ],
   "source": [
    "from imblearn.under_sampling import ClusterCentroids\n",
    "\n",
    "cc = ClusterCentroids(random_state = 0)\n",
    "X_resampled, y_resampled = cc.fit_resample(X, y)\n",
    "\n",
    "print(sorted(Counter(y_resampled).items()))"
   ]
  },
  {
   "cell_type": "markdown",
   "metadata": {},
   "source": [
    "### 2.2 Prototype selection"
   ]
  },
  {
   "cell_type": "markdown",
   "metadata": {},
   "source": [
    "#### 2.2.1 Controlled under-sampling"
   ]
  },
  {
   "cell_type": "code",
   "execution_count": 59,
   "metadata": {},
   "outputs": [
    {
     "name": "stdout",
     "output_type": "stream",
     "text": [
      "[(0, 64), (1, 64), (2, 64)]\n"
     ]
    }
   ],
   "source": [
    "from imblearn.under_sampling import RandomUnderSampler\n",
    "\n",
    "rus = RandomUnderSampler(random_state = 0)\n",
    "X_resampled, y_resampled = rus.fit_resample(X, y)\n",
    "\n",
    "print(sorted(Counter(y_resampled).items()))"
   ]
  },
  {
   "cell_type": "code",
   "execution_count": 62,
   "metadata": {},
   "outputs": [
    {
     "name": "stdout",
     "output_type": "stream",
     "text": [
      "(192, 2)\n",
      "(181, 2)\n"
     ]
    }
   ],
   "source": [
    "from imblearn.under_sampling import RandomUnderSampler\n",
    "\n",
    "print(np.vstack([tuple(row) for row in X_resampled]).shape)\n",
    "rus = RandomUnderSampler(random_state = 0, replacement = True)\n",
    "X_resampled, y_resampled = rus.fit_resample(X, y)\n",
    "print(np.vstack(np.unique([tuple(row) for row in X_resampled], axis = 0)).shape)"
   ]
  },
  {
   "cell_type": "code",
   "execution_count": 65,
   "metadata": {},
   "outputs": [
    {
     "name": "stdout",
     "output_type": "stream",
     "text": [
      "[['xxx' 1 1.0]\n",
      " ['yyy' 2 2.0]\n",
      " ['zzz' 3 3.0]]\n",
      "[0 0 1]\n",
      "==============================\n",
      "[['xxx' 1 1.0]\n",
      " ['zzz' 3 3.0]]\n",
      "[0 1]\n"
     ]
    }
   ],
   "source": [
    "X_hetero = np.array([\n",
    "    ['xxx', 1, 1.0],\n",
    "    ['yyy', 2, 2.0],\n",
    "    ['zzz', 3, 3.0]\n",
    "], dtype = np.object)\n",
    "y_hetero = np.array([0, 0, 1])\n",
    "print(X_hetero)\n",
    "print(y_hetero)\n",
    "\n",
    "X_resampled, y_resampled = rus.fit_resample(X_hetero, y_hetero)\n",
    "print('=' * 30)\n",
    "print(X_resampled) \n",
    "print(y_resampled)"
   ]
  },
  {
   "cell_type": "markdown",
   "metadata": {},
   "source": [
    "#### 2.2.2 Cleaning under-sampling"
   ]
  },
  {
   "cell_type": "code",
   "execution_count": null,
   "metadata": {},
   "outputs": [],
   "source": []
  },
  {
   "cell_type": "code",
   "execution_count": null,
   "metadata": {},
   "outputs": [],
   "source": []
  },
  {
   "cell_type": "code",
   "execution_count": null,
   "metadata": {},
   "outputs": [],
   "source": []
  },
  {
   "cell_type": "code",
   "execution_count": null,
   "metadata": {},
   "outputs": [],
   "source": []
  }
 ],
 "metadata": {
  "kernelspec": {
   "display_name": "Python 3",
   "language": "python",
   "name": "python3"
  },
  "language_info": {
   "codemirror_mode": {
    "name": "ipython",
    "version": 3
   },
   "file_extension": ".py",
   "mimetype": "text/x-python",
   "name": "python",
   "nbconvert_exporter": "python",
   "pygments_lexer": "ipython3",
   "version": "3.7.0"
  }
 },
 "nbformat": 4,
 "nbformat_minor": 2
}
