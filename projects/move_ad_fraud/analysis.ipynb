{
 "cells": [
  {
   "cell_type": "code",
   "execution_count": 1,
   "metadata": {},
   "outputs": [],
   "source": [
    "import os\n",
    "import warnings\n",
    "import pandas as pd\n",
    "import numpy as np\n",
    "from datetime import timedelta, datetime\n",
    "from sklearn.preprocessing import OneHotEncoder\n",
    "from scipy import sparse\n",
    "from sklearn.metrics import f1_score\n",
    "from lightgbm import LGBMClassifier\n",
    "warnings.filterwarnings(\"ignore\")\n",
    "import logging"
   ]
  },
  {
   "cell_type": "markdown",
   "metadata": {},
   "source": [
    "## 读取数据"
   ]
  },
  {
   "cell_type": "code",
   "execution_count": 2,
   "metadata": {},
   "outputs": [
    {
     "name": "stdout",
     "output_type": "stream",
     "text": [
      "read data\n"
     ]
    }
   ],
   "source": [
    "print(\"read data\")\n",
    "path = \"/home/zfwang/Downloads/data/aichallenge_2019_ad_fraud/data/\"\n",
    "df_train = pd.read_csv(path + \"round1_iflyad_anticheat_traindata.txt\", sep = \"\\t\")\n",
    "df_test = pd.read_csv(path + \"round1_iflyad_anticheat_testdata_feature.txt\", sep = \"\\t\")\n",
    "df_uni = pd.concat([df_train, df_test], ignore_index = True)\n",
    "df_uni[\"label\"] = df_uni[\"label\"].fillna(-1).astype(int)"
   ]
  },
  {
   "cell_type": "code",
   "execution_count": 3,
   "metadata": {},
   "outputs": [
    {
     "name": "stdout",
     "output_type": "stream",
     "text": [
      "                                                 sid  label  \\\n",
      "0  d7460126-e071-4979-9ee8-42f72777a28a-156009070...      1   \n",
      "1  b660d559-db97-4b5f-9bd2-2450cb89ce77-156005074...      1   \n",
      "2  f49a740e-66c3-4605-9b67-4d3079fe69cb-156008914...      0   \n",
      "3  fd60d096-f168-4540-b782-729d64d0fcc6-156006253...      0   \n",
      "4  a037b032-a5c7-40ea-9161-26b118b12406-156007938...      1   \n",
      "\n",
      "                            pkgname              ver  \\\n",
      "0  2d2664e827bcbb8b07100c7fbe072e9b          11.11.0   \n",
      "1                             empty              NaN   \n",
      "2  16b81f93f4b1a35cebbf15f07683f171  3.2.1.0524.1958   \n",
      "3                             empty            4.7.5   \n",
      "4  cf4821986014a7fef9d7b7ad8de655e4              228   \n",
      "\n",
      "                       adunitshowid                       mediashowid  \\\n",
      "0  907d0f8c29663840491577a21c7b612a  ca64a500000d84c8fcb8a0587d0e1e0c   \n",
      "1  10199dc8fea2e173525bc3151bd84312  3f2fc57a6e1f9c6fa4464c25cc1e88a3   \n",
      "2  83f2ecfe65f936f5f2ed59f8e8ff1d01  eea7280e1a2313e4c2e89290b01d196c   \n",
      "3  9f1eadd9092b19bc86ee0cacde1c867f  eec946a5a66c023ec9d3b2ede5900626   \n",
      "4  2af944462e43cd2f59acbbfd37445413  57b3053174973702549ba88b6017ac30   \n",
      "\n",
      "   apptype     nginxtime               ip  city  province      reqrealip  \\\n",
      "0    280.0  1.560091e+12    183.197.47.83  石家庄市      -1.0   180.76.181.7   \n",
      "1    319.0  1.560051e+12    106.34.14.149   开封市      -1.0  47.95.111.138   \n",
      "2    273.0  1.560089e+12   223.104.16.151   长春市      -1.0  39.96.159.155   \n",
      "3    265.0  1.560063e+12  223.104.239.101   曲靖市      -1.0  47.101.65.230   \n",
      "4    336.0  1.560079e+12  220.152.155.170   深圳市      -1.0   39.96.183.23   \n",
      "\n",
      "                            adidmd5                           imeimd5 idfamd5  \\\n",
      "0  eb4fa0cf77cdd57a6993a4e42c8fa4cf  930b3a8ecff4f586c63fec5b96693f32   empty   \n",
      "1  a4ae6efcfaee62fb6da44a9c05753259  6e38deaa1f7b4118015c550bb21913d2   empty   \n",
      "2  3404f799628be2cf8fda7428aac2cca4  3fa42b06332c729f530b973973fabe3d   empty   \n",
      "3  941517d46b7261d98592425672bb86f5  04420edf96dde14c357db3e83d0b2310   empty   \n",
      "4  fc08a6724db4c2dcf9b5af3a4e0b6f38  23e94b65bab381bf57169149a20c0520   empty   \n",
      "\n",
      "                        openudidmd5                            macmd5  \\\n",
      "0                             empty  ab96caaba2b7973e63fb0d3d5c5bf8b0   \n",
      "1  a4ae6efcfaee62fb6da44a9c05753259  0f607264fc6318a92b9e13c65db7cd3c   \n",
      "2                             empty  5ba1cf1efeee4f83e91f9c0adc3015e3   \n",
      "3                             empty                             empty   \n",
      "4                             empty  4363320019cbb7cde8b704908b673416   \n",
      "\n",
      "   dvctype            model      make  ntt  carrier       os        osv  \\\n",
      "0      2.0           V1809A      vivo  2.0  46000.0  Android      8.1.0   \n",
      "1      2.0         BLA-AL00    HUAWEI  5.0      0.0  android  Android_9   \n",
      "2      2.0           PBEM00      OPPO  2.0  46000.0  Android      8.1.0   \n",
      "3      2.0            M711C       NaN  6.0      0.0  android        7.0   \n",
      "4      2.0  HUAWEI EML-AL00  EML-AL00  2.0  46000.0  Android          9   \n",
      "\n",
      "   orientation    lan       h       w  ppi  \n",
      "0          0.0  zh-CN  2340.0  1080.0  3.0  \n",
      "1          0.0    NaN  1080.0  2040.0  0.0  \n",
      "2          1.0  zh-CN  2196.0  1080.0  0.0  \n",
      "3          0.0    NaN     0.0     0.0  0.0  \n",
      "4          0.0  Zh-CN  2244.0  1080.0  0.0  \n",
      "====================================================================================================\n",
      "                            adidmd5                      adunitshowid  \\\n",
      "0  eb4fa0cf77cdd57a6993a4e42c8fa4cf  907d0f8c29663840491577a21c7b612a   \n",
      "1  a4ae6efcfaee62fb6da44a9c05753259  10199dc8fea2e173525bc3151bd84312   \n",
      "2  3404f799628be2cf8fda7428aac2cca4  83f2ecfe65f936f5f2ed59f8e8ff1d01   \n",
      "3  941517d46b7261d98592425672bb86f5  9f1eadd9092b19bc86ee0cacde1c867f   \n",
      "4  fc08a6724db4c2dcf9b5af3a4e0b6f38  2af944462e43cd2f59acbbfd37445413   \n",
      "\n",
      "   apptype  carrier  city  dvctype       h idfamd5  \\\n",
      "0    280.0  46000.0  石家庄市      2.0  2340.0   empty   \n",
      "1    319.0      0.0   开封市      2.0  1080.0   empty   \n",
      "2    273.0  46000.0   长春市      2.0  2196.0   empty   \n",
      "3    265.0      0.0   曲靖市      2.0     0.0   empty   \n",
      "4    336.0  46000.0   深圳市      2.0  2244.0   empty   \n",
      "\n",
      "                            imeimd5               ip  label    lan  \\\n",
      "0  930b3a8ecff4f586c63fec5b96693f32    183.197.47.83      1  zh-CN   \n",
      "1  6e38deaa1f7b4118015c550bb21913d2    106.34.14.149      1    NaN   \n",
      "2  3fa42b06332c729f530b973973fabe3d   223.104.16.151      0  zh-CN   \n",
      "3  04420edf96dde14c357db3e83d0b2310  223.104.239.101      0    NaN   \n",
      "4  23e94b65bab381bf57169149a20c0520  220.152.155.170      1  Zh-CN   \n",
      "\n",
      "                             macmd5      make  \\\n",
      "0  ab96caaba2b7973e63fb0d3d5c5bf8b0      vivo   \n",
      "1  0f607264fc6318a92b9e13c65db7cd3c    HUAWEI   \n",
      "2  5ba1cf1efeee4f83e91f9c0adc3015e3      OPPO   \n",
      "3                             empty       NaN   \n",
      "4  4363320019cbb7cde8b704908b673416  EML-AL00   \n",
      "\n",
      "                        mediashowid            model     nginxtime  ntt  \\\n",
      "0  ca64a500000d84c8fcb8a0587d0e1e0c           V1809A  1.560091e+12  2.0   \n",
      "1  3f2fc57a6e1f9c6fa4464c25cc1e88a3         BLA-AL00  1.560051e+12  5.0   \n",
      "2  eea7280e1a2313e4c2e89290b01d196c           PBEM00  1.560089e+12  2.0   \n",
      "3  eec946a5a66c023ec9d3b2ede5900626            M711C  1.560063e+12  6.0   \n",
      "4  57b3053174973702549ba88b6017ac30  HUAWEI EML-AL00  1.560079e+12  2.0   \n",
      "\n",
      "                        openudidmd5  orientation       os        osv  \\\n",
      "0                             empty          0.0  Android      8.1.0   \n",
      "1  a4ae6efcfaee62fb6da44a9c05753259          0.0  android  Android_9   \n",
      "2                             empty          1.0  Android      8.1.0   \n",
      "3                             empty          0.0  android        7.0   \n",
      "4                             empty          0.0  Android          9   \n",
      "\n",
      "                            pkgname  ppi  province      reqrealip  \\\n",
      "0  2d2664e827bcbb8b07100c7fbe072e9b  3.0      -1.0   180.76.181.7   \n",
      "1                             empty  0.0      -1.0  47.95.111.138   \n",
      "2  16b81f93f4b1a35cebbf15f07683f171  0.0      -1.0  39.96.159.155   \n",
      "3                             empty  0.0      -1.0  47.101.65.230   \n",
      "4  cf4821986014a7fef9d7b7ad8de655e4  0.0      -1.0   39.96.183.23   \n",
      "\n",
      "                                                 sid              ver       w  \n",
      "0  d7460126-e071-4979-9ee8-42f72777a28a-156009070...          11.11.0  1080.0  \n",
      "1  b660d559-db97-4b5f-9bd2-2450cb89ce77-156005074...              NaN  2040.0  \n",
      "2  f49a740e-66c3-4605-9b67-4d3079fe69cb-156008914...  3.2.1.0524.1958  1080.0  \n",
      "3  fd60d096-f168-4540-b782-729d64d0fcc6-156006253...            4.7.5     0.0  \n",
      "4  a037b032-a5c7-40ea-9161-26b118b12406-156007938...              228  1080.0  \n"
     ]
    }
   ],
   "source": [
    "with pd.option_context(\"display.max_columns\", None):\n",
    "    print(df_train.head())\n",
    "    print(\"=\" * 100)\n",
    "    print(df_uni.head())"
   ]
  },
  {
   "cell_type": "markdown",
   "metadata": {},
   "source": [
    "## 类别型特征和无用特征"
   ]
  },
  {
   "cell_type": "code",
   "execution_count": 4,
   "metadata": {},
   "outputs": [],
   "source": [
    "cat_cols = ['pkgname', 'ver', 'adunitshowid', 'mediashowid', 'apptype', 'ip',\n",
    "           'reqrealip', 'city', 'province', 'adidmd5', 'imeimd5', 'idfamd5',\n",
    "           'openudidmd5', 'macmd5', 'dvctype', 'model', 'make', 'ntt',\n",
    "           'carrier', 'os', 'osv', 'orientation', 'lan', 'h', 'w', 'ppi']\n",
    "drop_cols = [\"sid\", 'label', 'nginxtime']"
   ]
  },
  {
   "cell_type": "markdown",
   "metadata": {},
   "source": [
    "## 缺失值填充"
   ]
  },
  {
   "cell_type": "code",
   "execution_count": 5,
   "metadata": {},
   "outputs": [
    {
     "name": "stdout",
     "output_type": "stream",
     "text": [
      "full null\n"
     ]
    }
   ],
   "source": [
    "print(\"full null\")\n",
    "for cat_col in cat_cols:\n",
    "    if df_uni[cat_col].isnull().sum() > 0:\n",
    "        df_uni[cat_col].fillna(\"null_value\", inplace = True)"
   ]
  },
  {
   "cell_type": "code",
   "execution_count": null,
   "metadata": {},
   "outputs": [],
   "source": [
    "def gen_value_counts(data, col):\n",
    "    print('value counts', col)\n",
    "    df_tmp = pd.DataFrame(data[col].value_counts().reset_index())\n",
    "    df_tmp.columns = [col, 'tmp']\n",
    "    r = pd.merge(data, df_tmp, how='left', on=col)['tmp']\n",
    "    return r.fillna(0)\n",
    "\n",
    "value_counts_col = [\"pkgname\", \"adunitshowid\", \"ip\", \"reqrealip\",\n",
    "                    \"adidmd5\", \"imeimd5\", \"idfamd5\", \"macmd5\"]\n",
    "\n",
    "for col in value_counts_col:\n",
    "    df_uni[\"vc_\" + col] = gen_value_counts(df_uni, col)"
   ]
  },
  {
   "cell_type": "code",
   "execution_count": null,
   "metadata": {},
   "outputs": [],
   "source": [
    "print(\"cut\")\n",
    "def cut_col(data, col_name, cut_list):\n",
    "    print(\"cutting\", \"col_name\")\n",
    "    \n",
    "    def _trans(array):\n",
    "        count = array([\"box_counts\"])\n",
    "        for box in cut_list:\n",
    "            if count <= box:\n",
    "                return \"count_\" + str(box)\n",
    "        return array[col_name]\n",
    "\n",
    "    df_counts = pd.DataFrame(data[col_name].value_counts())\n",
    "    df_counts.columns = [\"box_counts\"]\n",
    "    df_counts[col_name] = df_counts.index\n",
    "    df = pd.merge(data, df_counts, on = col_name, how = \"left\")\n",
    "    column =  df.apply(_trans, axis = 1)\n",
    "    return column\n",
    "\n",
    "cut_col_dict = {\n",
    "    ('pkgname', 'ver', 'reqrealip', 'adidmd5', 'imeimd5', \n",
    "     'openudidmd5', 'macmd5', 'model', 'make'): [3],\n",
    "    ('ip',): [3, 5, 10],\n",
    "}\n",
    "\n",
    "for cut_cols, cut_list in cut_col_dict.items():\n",
    "    for col in cut_cols:\n",
    "        df_uni[col] = cut_col(df_uni, col, cut_list)"
   ]
  }
 ],
 "metadata": {
  "kernelspec": {
   "display_name": "Python 3",
   "language": "python",
   "name": "python3"
  },
  "language_info": {
   "codemirror_mode": {
    "name": "ipython",
    "version": 3
   },
   "file_extension": ".py",
   "mimetype": "text/x-python",
   "name": "python",
   "nbconvert_exporter": "python",
   "pygments_lexer": "ipython3",
   "version": "3.6.5"
  }
 },
 "nbformat": 4,
 "nbformat_minor": 2
}
