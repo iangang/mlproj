{
 "cells": [
  {
   "cell_type": "markdown",
   "metadata": {},
   "source": [
    "## 1.导入工具库"
   ]
  },
  {
   "cell_type": "code",
   "execution_count": 56,
   "metadata": {},
   "outputs": [],
   "source": [
    "import os\n",
    "import pandas as pd\n",
    "import numpy as np\n",
    "from datetime import timedelta, datetime\n",
    "from sklearn.preprocessing import OneHotEncoder\n",
    "from scipy import sparse\n",
    "from sklearn.metrics import f1_score\n",
    "from lightgbm import LGBMClassifier\n",
    "\n",
    "import warnings\n",
    "warnings.filterwarnings(\"ignore\")\n",
    "\n",
    "import logging\n",
    "logging.basicConfig(level = logging.WARNING,\n",
    "                    format = '%(asctime)s - %(filename)s[line:%(lineno)d] - %(levelname)s: %(message)s')"
   ]
  },
  {
   "cell_type": "markdown",
   "metadata": {},
   "source": [
    "## 2.数据集"
   ]
  },
  {
   "cell_type": "markdown",
   "metadata": {},
   "source": [
    "|特征类别|变量|数据类型|解释|\n",
    "|-------|-----|-----|-----|\n",
    "|数据类别|变量|数值格式|解释|\n",
    "|基本数据|sid|string|样本id/请求会话sid|\n",
    "|基本数据|label|int|是否作弊|\n",
    "|媒体信息|pkgname|string|包名(MD5加密)|\n",
    "|媒体信息|ver|string|app版本|\n",
    "|媒体信息|adunitshowid|string|对外广告位ID（MD5加密）|\n",
    "|媒体信息|mediashowid|string|对外媒体ID（MD5加密）|\n",
    "|媒体信息|apptype|int|app所属分类|\n",
    "|时间|nginxtime|bigint|请求到达服务时间，单位ms|\n",
    "|IP信息|ip|string|客户端IP地址|\n",
    "|IP信息|city|string|城市|\n",
    "|IP信息|province|string|省份|\n",
    "IP信息|reqrealip|string|请求的http协议头携带IP，有可能是下|游服务器的ip|\n",
    "|设备信息|adidmd5|string|Adroid ID的MD5值|\n",
    "|设备信息|imeimd5|string|imei的MD5值|\n",
    "|设备信息|idfamd5|string|idfa的MD5值|\n",
    "|设备信息|openudidmd5|string|openudid的MD5值|\n",
    "|设备信息|macmd5|string|mac的MD5值|\n",
    "设备信息|dvctype|int|设备类型 0 – 未知,1 – PC,2 – 手机, 3– 平板,4– 电视盒,5– 智能电视,6 – 可穿戴设备,7 – |智能家电,8 - 音箱,9 - 智能硬件|\n",
    "|设备信息|model|string|机型|\n",
    "|设备信息|make|string|厂商|\n",
    "设备信息|ntt|int|网络类型 0-未知, 1-有线网, 2-WIFI, |3-蜂窝网络未知, 4-2G, 5-3G, 6–4G|\n",
    "设备信息|carrier|string|运营商 0-未知, 46000-移动, |46001-联通, 46003-电信|\n",
    "|设备信息|os|string|操作系统 : Android, iOS|\n",
    "|设备信息|osv|string|操作系统版本|\n",
    "|设备信息|orientation|int|横竖屏:0竖屏，1横屏|\n",
    "|设备信息|lan|string|语言|\n",
    "|设备信息|h|int|设备高|\n",
    "|设备信息|w|int|设备宽|\n",
    "|设备信息|ppi|int|屏幕密度|"
   ]
  },
  {
   "cell_type": "markdown",
   "metadata": {},
   "source": [
    "## 3.读取数据集"
   ]
  },
  {
   "cell_type": "code",
   "execution_count": 58,
   "metadata": {},
   "outputs": [
    {
     "name": "stdout",
     "output_type": "stream",
     "text": [
      "========================================\n",
      "read data\n",
      "========================================\n",
      "                            adidmd5                      adunitshowid  \\\n",
      "0  eb4fa0cf77cdd57a6993a4e42c8fa4cf  907d0f8c29663840491577a21c7b612a   \n",
      "1  a4ae6efcfaee62fb6da44a9c05753259  10199dc8fea2e173525bc3151bd84312   \n",
      "2  3404f799628be2cf8fda7428aac2cca4  83f2ecfe65f936f5f2ed59f8e8ff1d01   \n",
      "3  941517d46b7261d98592425672bb86f5  9f1eadd9092b19bc86ee0cacde1c867f   \n",
      "4  fc08a6724db4c2dcf9b5af3a4e0b6f38  2af944462e43cd2f59acbbfd37445413   \n",
      "\n",
      "   apptype  carrier  city  dvctype       h idfamd5  \\\n",
      "0    280.0  46000.0  石家庄市      2.0  2340.0   empty   \n",
      "1    319.0      0.0   开封市      2.0  1080.0   empty   \n",
      "2    273.0  46000.0   长春市      2.0  2196.0   empty   \n",
      "3    265.0      0.0   曲靖市      2.0     0.0   empty   \n",
      "4    336.0  46000.0   深圳市      2.0  2244.0   empty   \n",
      "\n",
      "                            imeimd5               ip  label    lan  \\\n",
      "0  930b3a8ecff4f586c63fec5b96693f32    183.197.47.83      1  zh-CN   \n",
      "1  6e38deaa1f7b4118015c550bb21913d2    106.34.14.149      1    NaN   \n",
      "2  3fa42b06332c729f530b973973fabe3d   223.104.16.151      0  zh-CN   \n",
      "3  04420edf96dde14c357db3e83d0b2310  223.104.239.101      0    NaN   \n",
      "4  23e94b65bab381bf57169149a20c0520  220.152.155.170      1  Zh-CN   \n",
      "\n",
      "                             macmd5      make  \\\n",
      "0  ab96caaba2b7973e63fb0d3d5c5bf8b0      vivo   \n",
      "1  0f607264fc6318a92b9e13c65db7cd3c    HUAWEI   \n",
      "2  5ba1cf1efeee4f83e91f9c0adc3015e3      OPPO   \n",
      "3                             empty       NaN   \n",
      "4  4363320019cbb7cde8b704908b673416  EML-AL00   \n",
      "\n",
      "                        mediashowid            model     nginxtime  ntt  \\\n",
      "0  ca64a500000d84c8fcb8a0587d0e1e0c           V1809A  1.560091e+12  2.0   \n",
      "1  3f2fc57a6e1f9c6fa4464c25cc1e88a3         BLA-AL00  1.560051e+12  5.0   \n",
      "2  eea7280e1a2313e4c2e89290b01d196c           PBEM00  1.560089e+12  2.0   \n",
      "3  eec946a5a66c023ec9d3b2ede5900626            M711C  1.560063e+12  6.0   \n",
      "4  57b3053174973702549ba88b6017ac30  HUAWEI EML-AL00  1.560079e+12  2.0   \n",
      "\n",
      "                        openudidmd5  orientation       os        osv  \\\n",
      "0                             empty          0.0  Android      8.1.0   \n",
      "1  a4ae6efcfaee62fb6da44a9c05753259          0.0  android  Android_9   \n",
      "2                             empty          1.0  Android      8.1.0   \n",
      "3                             empty          0.0  android        7.0   \n",
      "4                             empty          0.0  Android          9   \n",
      "\n",
      "                            pkgname  ppi  province      reqrealip  \\\n",
      "0  2d2664e827bcbb8b07100c7fbe072e9b  3.0      -1.0   180.76.181.7   \n",
      "1                             empty  0.0      -1.0  47.95.111.138   \n",
      "2  16b81f93f4b1a35cebbf15f07683f171  0.0      -1.0  39.96.159.155   \n",
      "3                             empty  0.0      -1.0  47.101.65.230   \n",
      "4  cf4821986014a7fef9d7b7ad8de655e4  0.0      -1.0   39.96.183.23   \n",
      "\n",
      "                                                 sid              ver       w  \n",
      "0  d7460126-e071-4979-9ee8-42f72777a28a-156009070...          11.11.0  1080.0  \n",
      "1  b660d559-db97-4b5f-9bd2-2450cb89ce77-156005074...              NaN  2040.0  \n",
      "2  f49a740e-66c3-4605-9b67-4d3079fe69cb-156008914...  3.2.1.0524.1958  1080.0  \n",
      "3  fd60d096-f168-4540-b782-729d64d0fcc6-156006253...            4.7.5     0.0  \n",
      "4  a037b032-a5c7-40ea-9161-26b118b12406-156007938...              228  1080.0  \n",
      "=======================\n",
      "当前数据集的形状：\n",
      "=======================\n",
      "train data shape: (1000000, 29)\n",
      "test data shape: (100000, 28)\n",
      "unioned train and test data shape: (1100000, 29)\n"
     ]
    }
   ],
   "source": [
    "print(\"=\" * 40)\n",
    "print(\"read data\")\n",
    "print(\"=\" * 40)\n",
    "\n",
    "# 读取 train data 和 test data\n",
    "path = \"/Users/zfwang/data/mldata/aichallenge_2019_ad_fraud/data/\"\n",
    "df_train = pd.read_csv(path + \"round1_iflyad_anticheat_traindata.txt\", sep = \"\\t\")\n",
    "df_test = pd.read_csv(path + \"round1_iflyad_anticheat_testdata_feature.txt\", sep = \"\\t\")\n",
    "\n",
    "# 合并 df_train 和 df_test\n",
    "df_uni = pd.concat([df_train, df_test], ignore_index = True)\n",
    "df_uni[\"label\"] = df_uni[\"label\"].fillna(-1).astype(int)\n",
    "\n",
    "# 查看 df_train, df_test, df_uni\n",
    "with pd.option_context(\"display.max_columns\", None):\n",
    "    print(df_uni.head())\n",
    "print(\"=\" * 23)\n",
    "print(\"当前数据集的形状：\")\n",
    "print(\"=\" * 23)\n",
    "print(\"train data shape:\", df_train.shape)\n",
    "print(\"test data shape:\", df_test.shape)\n",
    "print(\"unioned train and test data shape:\", df_uni.shape)"
   ]
  },
  {
   "cell_type": "markdown",
   "metadata": {},
   "source": [
    "## 4.特征工程"
   ]
  },
  {
   "cell_type": "markdown",
   "metadata": {},
   "source": [
    "### 4.1 特征分类"
   ]
  },
  {
   "cell_type": "code",
   "execution_count": 61,
   "metadata": {},
   "outputs": [
    {
     "name": "stdout",
     "output_type": "stream",
     "text": [
      "===============\n",
      "特征分类\n",
      "===============\n"
     ]
    }
   ],
   "source": [
    "print(\"=\" * 23)\n",
    "print(\"特征分类\")\n",
    "print(\"=\" * 23)\n",
    "# 待处理特征\n",
    "cat_cols = ['pkgname', 'ver', 'adunitshowid', 'mediashowid', 'apptype', 'ip',\n",
    "            'reqrealip', 'city', 'province', 'adidmd5', 'imeimd5', 'idfamd5',\n",
    "            'openudidmd5', 'macmd5', 'dvctype', 'model', 'make', 'ntt',\n",
    "            'carrier', 'os', 'osv', 'orientation', 'lan', 'h', 'w', 'ppi']\n",
    "# 待删除特征\n",
    "drop_cols = ['sid', 'label', 'nginxtime']"
   ]
  },
  {
   "cell_type": "markdown",
   "metadata": {},
   "source": [
    "### 4.2 缺失值填充"
   ]
  },
  {
   "cell_type": "code",
   "execution_count": 62,
   "metadata": {},
   "outputs": [
    {
     "name": "stdout",
     "output_type": "stream",
     "text": [
      "===============\n",
      "fill null\n",
      "===============\n"
     ]
    }
   ],
   "source": [
    "# 对含有缺失值的特征用`null_value`进行填充\n",
    "print(\"=\" * 23)\n",
    "print('fill null')\n",
    "print(\"=\" * 23)\n",
    "for cat_col in cat_cols:\n",
    "    if df_uni[cat_col].isnull().sum() > 0:\n",
    "        df_uni[cat_col].fillna('null_value', inplace=True)"
   ]
  },
  {
   "cell_type": "markdown",
   "metadata": {},
   "source": [
    "### 4.3 生成特征"
   ]
  },
  {
   "cell_type": "code",
   "execution_count": 63,
   "metadata": {},
   "outputs": [
    {
     "name": "stdout",
     "output_type": "stream",
     "text": [
      "=======================\n",
      "generate some features:\n",
      "=======================\n",
      "value counts pkgname\n",
      "value counts adunitshowid\n",
      "value counts ip\n",
      "value counts reqrealip\n",
      "value counts adidmd5\n",
      "value counts imeimd5\n",
      "value counts idfamd5\n",
      "value counts macmd5\n",
      "=======================\n",
      "当前df_uni的形状：\n",
      "=======================\n",
      "(1100000, 37)\n"
     ]
    }
   ],
   "source": [
    "print(\"=\" * 23)\n",
    "print(\"generate some features:\")\n",
    "print(\"=\" * 23)\n",
    "def gen_value_counts(data, col):\n",
    "    print('value counts', col)\n",
    "    df_tmp = pd.DataFrame(data[col].value_counts().reset_index())\n",
    "    df_tmp.columns = [col, 'tmp']\n",
    "    r = pd.merge(data, df_tmp, how = 'left', on = col)['tmp']\n",
    "    return r.fillna(0)\n",
    "\n",
    "value_counts_col = ['pkgname', 'adunitshowid', 'ip', 'reqrealip',\n",
    "                    'adidmd5', 'imeimd5', 'idfamd5', 'macmd5']\n",
    "\n",
    "for col in value_counts_col:\n",
    "    df_uni['vc_' + col] = gen_value_counts(df_uni, col)\n",
    "\n",
    "print(\"=\" * 23)\n",
    "print(\"当前df_uni的形状：\")\n",
    "print(\"=\" * 23)\n",
    "print(df_uni.shape)"
   ]
  },
  {
   "cell_type": "markdown",
   "metadata": {},
   "source": [
    "### 4.4 "
   ]
  },
  {
   "cell_type": "code",
   "execution_count": 64,
   "metadata": {},
   "outputs": [
    {
     "name": "stdout",
     "output_type": "stream",
     "text": [
      "=======================\n",
      "cut features:\n",
      "=======================\n",
      "cutting pkgname\n",
      "cutting ver\n",
      "cutting reqrealip\n",
      "cutting adidmd5\n",
      "cutting imeimd5\n",
      "cutting openudidmd5\n",
      "cutting macmd5\n",
      "cutting model\n",
      "cutting make\n",
      "cutting ip\n"
     ]
    }
   ],
   "source": [
    "print(\"=\" * 23)\n",
    "print('cut features:')\n",
    "print(\"=\" * 23)\n",
    "def cut_col(data, col_name, cut_list):\n",
    "    print('cutting', col_name)\n",
    "\n",
    "    def _trans(array):\n",
    "        count = array['box_counts']\n",
    "        for box in cut_list:\n",
    "            if count <= box:\n",
    "                return 'count_' + str(box)\n",
    "        return array[col_name]\n",
    "\n",
    "    df_counts = pd.DataFrame(data[col_name].value_counts())\n",
    "    df_counts.columns = ['box_counts']\n",
    "    df_counts[col_name] = df_counts.index\n",
    "    df = pd.merge(data, df_counts, on = col_name, how = 'left')\n",
    "    column = df.apply(_trans, axis = 1)\n",
    "    return column\n",
    "\n",
    "cut_col_dict = {\n",
    "    ('pkgname', 'ver', 'reqrealip', 'adidmd5', 'imeimd5', 'openudidmd5', 'macmd5', 'model', 'make'): [3],\n",
    "    ('ip',): [3, 5, 10],\n",
    "}\n",
    "\n",
    "for cut_cols, cut_list in cut_col_dict.items():\n",
    "    for col in cut_cols:\n",
    "        df_uni[col] = cut_col(df_uni, col, cut_list)"
   ]
  },
  {
   "cell_type": "markdown",
   "metadata": {},
   "source": [
    "### 4.5 日期特征处理"
   ]
  },
  {
   "cell_type": "code",
   "execution_count": 65,
   "metadata": {},
   "outputs": [
    {
     "name": "stdout",
     "output_type": "stream",
     "text": [
      "=======================\n",
      "feature time\n",
      "=======================\n"
     ]
    }
   ],
   "source": [
    "print(\"=\" * 23)\n",
    "print('feature time')\n",
    "print(\"=\" * 23)\n",
    "# 将`请求到达服务时间`转换为\"s\",并且转换为北京时间\n",
    "df_uni['datetime'] = pd.to_datetime(df_uni['nginxtime'] / 1000, unit = 's') + timedelta(hours = 8)\n",
    "\n",
    "# 提取`请求到达服务时间`的`小时`\n",
    "df_uni['hour'] = df_uni['datetime'].dt.hour\n",
    "\n",
    "# 计算当前`请求到达服务时间`距离第一次请求到达服务时间的天数\n",
    "df_uni['day'] = df_uni['datetime'].dt.day - df_uni['datetime'].dt.day.min()\n",
    "\n",
    "# 生成`hour(时)`特征\n",
    "cat_cols += ['hour']\n",
    "drop_cols += ['datetime', 'day']"
   ]
  },
  {
   "cell_type": "markdown",
   "metadata": {},
   "source": [
    "### 4.6 "
   ]
  },
  {
   "cell_type": "code",
   "execution_count": 66,
   "metadata": {},
   "outputs": [
    {
     "name": "stdout",
     "output_type": "stream",
     "text": [
      "=======================\n",
      "post process\n",
      "=======================\n"
     ]
    }
   ],
   "source": [
    "print(\"=\" * 23)\n",
    "print('post process')\n",
    "print(\"=\" * 23)\n",
    "for col in cat_cols:\n",
    "    df_uni[col] = df_uni[col].map(dict(zip(df_uni[col].unique(), range(0, df_uni[col].nunique()))))"
   ]
  },
  {
   "cell_type": "markdown",
   "metadata": {},
   "source": [
    "### 4.7 重新创建 train, validation, test 数据集"
   ]
  },
  {
   "cell_type": "code",
   "execution_count": 68,
   "metadata": {},
   "outputs": [
    {
     "name": "stdout",
     "output_type": "stream",
     "text": [
      "all_train_index.shape: (1100000,)\n",
      "train_index.shape: (1100000,)\n",
      "valid_index.shape: (1100000,)\n",
      "test_index.shape: (1100000,)\n",
      "train_label.shape: (1100000,)\n"
     ]
    }
   ],
   "source": [
    "all_train_index = (df_uni['day'] <= 6).values\n",
    "train_index     = (df_uni['day'] <= 5).values\n",
    "valid_index     = (df_uni['day'] == 6).values\n",
    "test_index      = (df_uni['day'] == 7).values\n",
    "train_label     = (df_uni['label']).values\n",
    "print(\"all_train_index.shape:\", all_train_index.shape)\n",
    "print(\"train_index.shape:\", train_index.shape)\n",
    "print(\"valid_index.shape:\", valid_index.shape)\n",
    "print(\"test_index.shape:\", test_index.shape)\n",
    "print(\"train_label.shape:\", train_label.shape)"
   ]
  },
  {
   "cell_type": "markdown",
   "metadata": {},
   "source": [
    "### 4.8 删除无用特征"
   ]
  },
  {
   "cell_type": "code",
   "execution_count": 69,
   "metadata": {},
   "outputs": [
    {
     "name": "stdout",
     "output_type": "stream",
     "text": [
      "=======================\n",
      "当前df_uni的形状：\n",
      "=======================\n",
      "(1100000, 35)\n"
     ]
    }
   ],
   "source": [
    "for col in drop_cols:\n",
    "    if col in df_uni.columns:\n",
    "        df_uni.drop([col], axis=1, inplace=True)\n",
    "print(\"=\" * 23)\n",
    "print(\"当前df_uni的形状：\")\n",
    "print(\"=\" * 23)\n",
    "print(df_uni.shape)"
   ]
  },
  {
   "cell_type": "markdown",
   "metadata": {},
   "source": [
    "### 4.9 类别特征One-Hot编码"
   ]
  },
  {
   "cell_type": "code",
   "execution_count": null,
   "metadata": {},
   "outputs": [],
   "source": [
    "ohe = OneHotEncoder()\n",
    "mtx_cat = ohe.fit_transform(df_uni[cat_cols])\n",
    "\n",
    "num_cols = list(set(df_uni.columns).difference(set(cat_cols)))\n",
    "mtx_num = sparse.csr_matrix(df_uni[num_cols].astype(float).values)\n",
    "mtx_uni = sparse.hstack([mtx_num, mtx_cat])\n",
    "mtx_uni = mtx_uni.tocsr()"
   ]
  },
  {
   "cell_type": "markdown",
   "metadata": {},
   "source": [
    "### 4.10 模型数据准备"
   ]
  },
  {
   "cell_type": "code",
   "execution_count": 70,
   "metadata": {},
   "outputs": [
    {
     "ename": "NameError",
     "evalue": "name 'all_train_x' is not defined",
     "output_type": "error",
     "traceback": [
      "\u001b[0;31m---------------------------------------------------------------------------\u001b[0m",
      "\u001b[0;31mNameError\u001b[0m                                 Traceback (most recent call last)",
      "\u001b[0;32m<ipython-input-70-42a408b7fc62>\u001b[0m in \u001b[0;36m<module>\u001b[0;34m\u001b[0m\n\u001b[0;32m----> 1\u001b[0;31m \u001b[0mtrain_x\u001b[0m \u001b[0;34m=\u001b[0m \u001b[0mall_train_x\u001b[0m\u001b[0;34m[\u001b[0m\u001b[0mtrain_index\u001b[0m\u001b[0;34m[\u001b[0m\u001b[0;34m:\u001b[0m\u001b[0mall_train_x\u001b[0m\u001b[0;34m.\u001b[0m\u001b[0mshape\u001b[0m\u001b[0;34m[\u001b[0m\u001b[0;36m0\u001b[0m\u001b[0;34m]\u001b[0m\u001b[0;34m]\u001b[0m\u001b[0;34m,\u001b[0m \u001b[0;34m:\u001b[0m\u001b[0;34m]\u001b[0m\u001b[0;34m\u001b[0m\u001b[0;34m\u001b[0m\u001b[0m\n\u001b[0m\u001b[1;32m      2\u001b[0m \u001b[0mtrain_y\u001b[0m \u001b[0;34m=\u001b[0m \u001b[0mtrain_label\u001b[0m\u001b[0;34m[\u001b[0m\u001b[0mtrain_index\u001b[0m\u001b[0;34m]\u001b[0m\u001b[0;34m\u001b[0m\u001b[0;34m\u001b[0m\u001b[0m\n\u001b[1;32m      3\u001b[0m \u001b[0;34m\u001b[0m\u001b[0m\n\u001b[1;32m      4\u001b[0m \u001b[0mval_x\u001b[0m \u001b[0;34m=\u001b[0m \u001b[0mall_train_x\u001b[0m\u001b[0;34m[\u001b[0m\u001b[0mvalid_index\u001b[0m\u001b[0;34m[\u001b[0m\u001b[0;34m:\u001b[0m\u001b[0mall_train_x\u001b[0m\u001b[0;34m.\u001b[0m\u001b[0mshape\u001b[0m\u001b[0;34m[\u001b[0m\u001b[0;36m0\u001b[0m\u001b[0;34m]\u001b[0m\u001b[0;34m]\u001b[0m\u001b[0;34m,\u001b[0m \u001b[0;34m:\u001b[0m\u001b[0;34m]\u001b[0m\u001b[0;34m\u001b[0m\u001b[0;34m\u001b[0m\u001b[0m\n\u001b[1;32m      5\u001b[0m \u001b[0mval_y\u001b[0m \u001b[0;34m=\u001b[0m \u001b[0mtrain_label\u001b[0m\u001b[0;34m[\u001b[0m\u001b[0mvalid_index\u001b[0m\u001b[0;34m]\u001b[0m\u001b[0;34m\u001b[0m\u001b[0;34m\u001b[0m\u001b[0m\n",
      "\u001b[0;31mNameError\u001b[0m: name 'all_train_x' is not defined"
     ]
    }
   ],
   "source": [
    "def col_filter(mtx_train, y_train, mtx_test, func=chi2, percentile=90):\n",
    "    feature_select = SelectPercentile(func, percentile=percentile)\n",
    "    feature_select.fit(mtx_train, y_train)\n",
    "    mtx_train = feature_select.transform(mtx_train)\n",
    "    mtx_test = feature_select.transform(mtx_test)\n",
    "    return mtx_train, mtx_test\n",
    "\n",
    "all_train_x, test_x = col_filter(\n",
    "    mtx_uni[all_train_index, :],\n",
    "    train_label[all_train_index],\n",
    "    mtx_uni[test_index, :]\n",
    ")\n",
    "\n",
    "train_x = all_train_x[train_index[:all_train_x.shape[0]], :]\n",
    "train_y = train_label[train_index]\n",
    "\n",
    "val_x = all_train_x[valid_index[:all_train_x.shape[0]], :]\n",
    "val_y = train_label[valid_index]"
   ]
  },
  {
   "cell_type": "markdown",
   "metadata": {},
   "source": [
    "## 5.训练模型"
   ]
  },
  {
   "cell_type": "markdown",
   "metadata": {},
   "source": [
    "### 5.1 定义模型评估指标(metric)"
   ]
  },
  {
   "cell_type": "code",
   "execution_count": 71,
   "metadata": {},
   "outputs": [],
   "source": [
    "# 混淆矩阵\n",
    "def confusion_matrix():\n",
    "    pass\n",
    "\n",
    "# 精度和召回率\n",
    "def precision_recall():\n",
    "    pass\n",
    "\n",
    "# f1 score\n",
    "def lgb_f1(labels, preds):\n",
    "    score = f1_score(labels, np.round(preds))\n",
    "    return 'f1', score, True"
   ]
  },
  {
   "cell_type": "markdown",
   "metadata": {},
   "source": [
    "### 5.2 模型训练"
   ]
  },
  {
   "cell_type": "code",
   "execution_count": null,
   "metadata": {},
   "outputs": [],
   "source": [
    "print(\"=\" * 23)\n",
    "print('training...')\n",
    "print(\"=\" * 23)\n",
    "\n",
    "# models\n",
    "lgb = LGBMClassifier(random_seed = 2019, \n",
    "                     n_jobs = -1, \n",
    "                     objective = 'binary',\n",
    "                     learning_rate = 0.1, \n",
    "                     n_estimators = 4000, \n",
    "                     num_leaves = 64, \n",
    "                     max_depth = -1,\n",
    "                     min_child_samples = 20, \n",
    "                     min_child_weight = 9, \n",
    "                     subsample_freq = 1,\n",
    "                     subsample = 0.8, \n",
    "                     colsample_bytree = 0.8, \n",
    "                     reg_alpha = 1, \n",
    "                     reg_lambda = 5)\n",
    "\n",
    "lgb.fit(\n",
    "    train_x,\n",
    "    train_y,\n",
    "    eval_set = [(train_x, train_y), (val_x, val_y)],\n",
    "    eval_names = ['train', 'val'],\n",
    "    eval_metric = lgb_f1,\n",
    "    early_stopping_rounds = 100,\n",
    "    verbose = 10,\n",
    ")\n",
    "\n",
    "print('best score', lgb.best_score_)"
   ]
  },
  {
   "cell_type": "markdown",
   "metadata": {},
   "source": [
    "## 6.模型预测"
   ]
  },
  {
   "cell_type": "code",
   "execution_count": null,
   "metadata": {},
   "outputs": [],
   "source": [
    "print(\"=\" * 23)\n",
    "print(\"predict:\")\n",
    "print(\"=\" * 23)\n",
    "all_train_y = train_label[all_train_index]\n",
    "lgb.n_estimators = lgb.best_iteration_\n",
    "lgb.fit(all_train_x, all_train_y)\n",
    "test_y = lgb.predict(test_x)"
   ]
  },
  {
   "cell_type": "markdown",
   "metadata": {},
   "source": [
    "## 7.生成submission文件"
   ]
  },
  {
   "cell_type": "code",
   "execution_count": null,
   "metadata": {},
   "outputs": [],
   "source": [
    "print(\"=\" * 23)\n",
    "print(\"generate submission file\")\n",
    "print(\"=\" * 23)\n",
    "df_sub = pd.concat([df_test[\"sid\"], pd.Series(test_y)], axis = 1)\n",
    "df_sub.columns = [\"sid\", \"label\"]\n",
    "df_sub.to_csv(\"submit-{}.csv\".format(datetime.now().strftime(\"%m%d_%H%M%S\")), \n",
    "              sep = \",\", \n",
    "              index = False)"
   ]
  }
 ],
 "metadata": {
  "kernelspec": {
   "display_name": "Python 3",
   "language": "python",
   "name": "python3"
  },
  "language_info": {
   "codemirror_mode": {
    "name": "ipython",
    "version": 3
   },
   "file_extension": ".py",
   "mimetype": "text/x-python",
   "name": "python",
   "nbconvert_exporter": "python",
   "pygments_lexer": "ipython3",
   "version": "3.7.3"
  }
 },
 "nbformat": 4,
 "nbformat_minor": 4
}
