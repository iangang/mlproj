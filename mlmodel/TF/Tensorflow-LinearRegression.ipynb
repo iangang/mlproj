{
 "cells": [
  {
   "cell_type": "code",
   "execution_count": 6,
   "metadata": {},
   "outputs": [],
   "source": [
    "import numpy as np\n",
    "from sklearn.datasets import fetch_california_housing\n",
    "import tensorflow as tf\n",
    "from pprint import pprint"
   ]
  },
  {
   "cell_type": "markdown",
   "metadata": {},
   "source": [
    "# 数据准备"
   ]
  },
  {
   "cell_type": "code",
   "execution_count": 7,
   "metadata": {},
   "outputs": [
    {
     "name": "stdout",
     "output_type": "stream",
     "text": [
      "{'DESCR': '.. _california_housing_dataset:\\n'\n",
      "          '\\n'\n",
      "          'California Housing dataset\\n'\n",
      "          '--------------------------\\n'\n",
      "          '\\n'\n",
      "          '**Data Set Characteristics:**\\n'\n",
      "          '\\n'\n",
      "          '    :Number of Instances: 20640\\n'\n",
      "          '\\n'\n",
      "          '    :Number of Attributes: 8 numeric, predictive attributes and the '\n",
      "          'target\\n'\n",
      "          '\\n'\n",
      "          '    :Attribute Information:\\n'\n",
      "          '        - MedInc        median income in block\\n'\n",
      "          '        - HouseAge      median house age in block\\n'\n",
      "          '        - AveRooms      average number of rooms\\n'\n",
      "          '        - AveBedrms     average number of bedrooms\\n'\n",
      "          '        - Population    block population\\n'\n",
      "          '        - AveOccup      average house occupancy\\n'\n",
      "          '        - Latitude      house block latitude\\n'\n",
      "          '        - Longitude     house block longitude\\n'\n",
      "          '\\n'\n",
      "          '    :Missing Attribute Values: None\\n'\n",
      "          '\\n'\n",
      "          'This dataset was obtained from the StatLib repository.\\n'\n",
      "          'http://lib.stat.cmu.edu/datasets/\\n'\n",
      "          '\\n'\n",
      "          'The target variable is the median house value for California '\n",
      "          'districts.\\n'\n",
      "          '\\n'\n",
      "          'This dataset was derived from the 1990 U.S. census, using one row '\n",
      "          'per census\\n'\n",
      "          'block group. A block group is the smallest geographical unit for '\n",
      "          'which the U.S.\\n'\n",
      "          'Census Bureau publishes sample data (a block group typically has a '\n",
      "          'population\\n'\n",
      "          'of 600 to 3,000 people).\\n'\n",
      "          '\\n'\n",
      "          'It can be downloaded/loaded using the\\n'\n",
      "          ':func:`sklearn.datasets.fetch_california_housing` function.\\n'\n",
      "          '\\n'\n",
      "          '.. topic:: References\\n'\n",
      "          '\\n'\n",
      "          '    - Pace, R. Kelley and Ronald Barry, Sparse Spatial '\n",
      "          'Autoregressions,\\n'\n",
      "          '      Statistics and Probability Letters, 33 (1997) 291-297\\n',\n",
      " 'data': array([[   8.3252    ,   41.        ,    6.98412698, ...,    2.55555556,\n",
      "          37.88      , -122.23      ],\n",
      "       [   8.3014    ,   21.        ,    6.23813708, ...,    2.10984183,\n",
      "          37.86      , -122.22      ],\n",
      "       [   7.2574    ,   52.        ,    8.28813559, ...,    2.80225989,\n",
      "          37.85      , -122.24      ],\n",
      "       ...,\n",
      "       [   1.7       ,   17.        ,    5.20554273, ...,    2.3256351 ,\n",
      "          39.43      , -121.22      ],\n",
      "       [   1.8672    ,   18.        ,    5.32951289, ...,    2.12320917,\n",
      "          39.43      , -121.32      ],\n",
      "       [   2.3886    ,   16.        ,    5.25471698, ...,    2.61698113,\n",
      "          39.37      , -121.24      ]]),\n",
      " 'feature_names': ['MedInc',\n",
      "                   'HouseAge',\n",
      "                   'AveRooms',\n",
      "                   'AveBedrms',\n",
      "                   'Population',\n",
      "                   'AveOccup',\n",
      "                   'Latitude',\n",
      "                   'Longitude'],\n",
      " 'target': array([4.526, 3.585, 3.521, ..., 0.923, 0.847, 0.894])}\n"
     ]
    }
   ],
   "source": [
    "housing = fetch_california_housing()\n",
    "pprint(housing)"
   ]
  },
  {
   "cell_type": "code",
   "execution_count": 17,
   "metadata": {},
   "outputs": [
    {
     "name": "stdout",
     "output_type": "stream",
     "text": [
      "(20640, 9)\n",
      "(20640, 9)\n"
     ]
    }
   ],
   "source": [
    "m, n = housing.data.shape\n",
    "housing_data_plus_bias = np.c_[np.ones((m, 1)), housing.data]\n",
    "\n",
    "from sklearn.preprocessing import StandardScaler\n",
    "scaler = StandardScaler()\n",
    "scaled_housing_data_plus_bias = scaler.fit_transform(housing_data_plus_bias)\n",
    "\n",
    "print(housing_data_plus_bias.shape)\n",
    "print(scaled_housing_data_plus_bias.shape)"
   ]
  },
  {
   "cell_type": "markdown",
   "metadata": {},
   "source": [
    "# 创建`线性回归模型的正规方程`计算图"
   ]
  },
  {
   "cell_type": "code",
   "execution_count": 10,
   "metadata": {},
   "outputs": [
    {
     "name": "stdout",
     "output_type": "stream",
     "text": [
      "[[-3.7171074e+01]\n",
      " [ 4.3633682e-01]\n",
      " [ 9.3871783e-03]\n",
      " [-1.0717344e-01]\n",
      " [ 6.4540231e-01]\n",
      " [-4.1238391e-06]\n",
      " [-3.7809242e-03]\n",
      " [-4.2373490e-01]\n",
      " [-4.3720812e-01]]\n"
     ]
    }
   ],
   "source": [
    "# 创建计算图\n",
    "X = tf.constant(housing_data_plus_bias, dtype = tf.float32, name = \"X\")\n",
    "y = tf.constant(housing.target.reshape(-1, 1), dtype = tf.float32, name = \"y\")\n",
    "X_trans = tf.transpose(X)\n",
    "theta = tf.matmul(tf.matmul(tf.matrix_inverse(tf.matmul(X_trans, X)), X_trans), y)\n",
    "\n",
    "# 会话执行计算图\n",
    "with tf.Session() as sess:\n",
    "    theta_value = theta.eval()\n",
    "    print(theta_value)"
   ]
  },
  {
   "cell_type": "markdown",
   "metadata": {},
   "source": [
    "# 创建`批量梯度下降算法`的计算图"
   ]
  },
  {
   "cell_type": "code",
   "execution_count": null,
   "metadata": {},
   "outputs": [],
   "source": [
    "# ===================================================\n",
    "# 配置项\n",
    "# ===================================================\n",
    "n_epochs = 1000\n",
    "learning_rate = 0.01\n",
    "batch_size = 100\n",
    "n_batches = int(np.ceil(m / batch_size))\n",
    "\n",
    "# ===================================================\n",
    "# 创建计算图\n",
    "# ===================================================\n",
    "\n",
    "def train_op():\n",
    "    # \n",
    "    # X = tf.constant(scaled_housing_data_plus_bias, dtype = tf.float32, name = \"X\")\n",
    "    # y = tf.constant(housing.target.reshape(-1, 1), dtype = tf.float32, name = \"y\")\n",
    "\n",
    "    # 构造占位符节点\n",
    "    X = tf.placeholder(tf.float32, shape = (None, n + 1), name = \"X\")\n",
    "    y = tf.placeholder(tf.float32, shape = (None, 1), name = \"y\")\n",
    "\n",
    "    theta = tf.Variable(tf.random_uniform([n + 1, 1], -1.0, 1.0), name = \"theta\")\n",
    "    y_pred = tf.matmul(X, theta, name = \"predictions\")\n",
    "    error = y_pred - y\n",
    "    mse = tf.reduce_mean(tf.square(error), name = \"mse\")\n",
    "\n",
    "    # -------------------\n",
    "    # 手动计算梯度\n",
    "    # -------------------\n",
    "    # gradients = 2 / m * tf.matmul(tf.transpose(X), error)\n",
    "    # training_op = tf.assign(theta, theta - learning_rate * gradients)\n",
    "\n",
    "    # -------------------\n",
    "    # 使用自动微分\n",
    "    # -------------------\n",
    "    # gradients = tf.gradients(mse, [theta])[0] \n",
    "    # training_op = tf.assign(theta, theta - learning_rate * gradients)\n",
    "\n",
    "    # -------------------\n",
    "    # 使用优化器\n",
    "    # -------------------\n",
    "    # 梯度下降优化器\n",
    "    # optimizer = tf.train.GradientDescentOptimizer(learning_rate = learning_rate)\n",
    "    # training_op = optimizer.minimize(mse)\n",
    "\n",
    "    # -------------------\n",
    "    # 动量优化器\n",
    "    # -------------------\n",
    "    optimizer = tf.train.MomentumOptimizer(learning_rate = learning_rate, momentum = 0.9)\n",
    "    training_op = optimizer.minimize(mse)\n",
    "    \n",
    "    return train_op\n",
    "\n",
    "def fetch_batch(epoch, batch_index, batch_size):\n",
    "    [...]\n",
    "    return X_batch, y_batch\n",
    "\n",
    "\n",
    "# ===================================================\n",
    "# 会话执行计算图\n",
    "# ===================================================\n",
    "init = tf.global_variabels_initializer()\n",
    "with tf.Session() as sess:\n",
    "    sess.run(init)\n",
    "    for epoch in range(n_epochs):\n",
    "        for batch_index in range(n_batches):\n",
    "            X_batch, y_batch = fetch_batch(epoch, batch_index, batch_size)\n",
    "            sess.run(training_op, feed_dict = {X: X_batch, y: y_batch})\n",
    "    best_theta = theta.eval()\n",
    "\n",
    "# ===================================================\n",
    "# 保存模型\n",
    "# ===================================================\n",
    "init = tf.global_variabels_initializer()\n",
    "saver = tf.train.Saver()\n",
    "with tf.Session() as sess:\n",
    "    sess.run(init)\n",
    "    for epoch in range(n_epoches):\n",
    "        if epoch % 100 == 0:\n",
    "            print(\"Epoch\", epoch, \"MSE =\", mse.eval())\n",
    "            save_path = saver.save(sess, \"/tmp/my_model.ckpt\")\n",
    "        sess.run(training_op)\n",
    "    best_theta = theta.eval()\n",
    "    save_path = saver.save(sess, \"/tmp/my_model_final.ckpt\")\n",
    "\n",
    "# ===================================================\n",
    "# 加载已保存的模型\n",
    "# ===================================================\n",
    "with tf.Session() as sess:\n",
    "    saver.restore(sess, \"/tmp/my_model_final.ckpt\")\n",
    "    \n"
   ]
  }
 ],
 "metadata": {
  "kernelspec": {
   "display_name": "Python 3",
   "language": "python",
   "name": "python3"
  },
  "language_info": {
   "codemirror_mode": {
    "name": "ipython",
    "version": 3
   },
   "file_extension": ".py",
   "mimetype": "text/x-python",
   "name": "python",
   "nbconvert_exporter": "python",
   "pygments_lexer": "ipython3",
   "version": "3.7.0"
  }
 },
 "nbformat": 4,
 "nbformat_minor": 2
}
